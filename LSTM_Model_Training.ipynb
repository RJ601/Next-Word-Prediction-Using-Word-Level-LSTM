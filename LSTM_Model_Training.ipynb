{
 "cells": [
  {
   "cell_type": "code",
   "execution_count": 3,
   "id": "6abb0ad8-63fd-43aa-9f1d-60b67ea650b7",
   "metadata": {},
   "outputs": [
    {
     "name": "stdout",
     "output_type": "stream",
     "text": [
      "Collecting nltk\n",
      "  Downloading nltk-3.9.1-py3-none-any.whl.metadata (2.9 kB)\n",
      "Collecting click (from nltk)\n",
      "  Downloading click-8.1.8-py3-none-any.whl.metadata (2.3 kB)\n",
      "Requirement already satisfied: joblib in c:\\users\\hp\\anaconda3\\envs\\tfenv\\lib\\site-packages (from nltk) (1.5.1)\n",
      "Collecting regex>=2021.8.3 (from nltk)\n",
      "  Downloading regex-2024.11.6-cp39-cp39-win_amd64.whl.metadata (41 kB)\n",
      "Collecting tqdm (from nltk)\n",
      "  Downloading tqdm-4.67.1-py3-none-any.whl.metadata (57 kB)\n",
      "Requirement already satisfied: colorama in c:\\users\\hp\\anaconda3\\envs\\tfenv\\lib\\site-packages (from click->nltk) (0.4.6)\n",
      "Downloading nltk-3.9.1-py3-none-any.whl (1.5 MB)\n",
      "   ---------------------------------------- 0.0/1.5 MB ? eta -:--:--\n",
      "   ------ --------------------------------- 0.3/1.5 MB ? eta -:--:--\n",
      "   -------------------- ------------------- 0.8/1.5 MB 2.4 MB/s eta 0:00:01\n",
      "   ---------------------------------- ----- 1.3/1.5 MB 2.2 MB/s eta 0:00:01\n",
      "   ---------------------------------------- 1.5/1.5 MB 1.9 MB/s eta 0:00:00\n",
      "Downloading regex-2024.11.6-cp39-cp39-win_amd64.whl (274 kB)\n",
      "Downloading click-8.1.8-py3-none-any.whl (98 kB)\n",
      "Downloading tqdm-4.67.1-py3-none-any.whl (78 kB)\n",
      "Installing collected packages: tqdm, regex, click, nltk\n",
      "\n",
      "   ---------------------------------------- 0/4 [tqdm]\n",
      "   ---------- ----------------------------- 1/4 [regex]\n",
      "   -------------------- ------------------- 2/4 [click]\n",
      "   -------------------- ------------------- 2/4 [click]\n",
      "   ------------------------------ --------- 3/4 [nltk]\n",
      "   ------------------------------ --------- 3/4 [nltk]\n",
      "   ------------------------------ --------- 3/4 [nltk]\n",
      "   ------------------------------ --------- 3/4 [nltk]\n",
      "   ------------------------------ --------- 3/4 [nltk]\n",
      "   ------------------------------ --------- 3/4 [nltk]\n",
      "   ------------------------------ --------- 3/4 [nltk]\n",
      "   ------------------------------ --------- 3/4 [nltk]\n",
      "   ------------------------------ --------- 3/4 [nltk]\n",
      "   ------------------------------ --------- 3/4 [nltk]\n",
      "   ------------------------------ --------- 3/4 [nltk]\n",
      "   ------------------------------ --------- 3/4 [nltk]\n",
      "   ------------------------------ --------- 3/4 [nltk]\n",
      "   ------------------------------ --------- 3/4 [nltk]\n",
      "   ------------------------------ --------- 3/4 [nltk]\n",
      "   ------------------------------ --------- 3/4 [nltk]\n",
      "   ------------------------------ --------- 3/4 [nltk]\n",
      "   ------------------------------ --------- 3/4 [nltk]\n",
      "   ------------------------------ --------- 3/4 [nltk]\n",
      "   ------------------------------ --------- 3/4 [nltk]\n",
      "   ------------------------------ --------- 3/4 [nltk]\n",
      "   ------------------------------ --------- 3/4 [nltk]\n",
      "   ------------------------------ --------- 3/4 [nltk]\n",
      "   ------------------------------ --------- 3/4 [nltk]\n",
      "   ------------------------------ --------- 3/4 [nltk]\n",
      "   ---------------------------------------- 4/4 [nltk]\n",
      "\n",
      "Successfully installed click-8.1.8 nltk-3.9.1 regex-2024.11.6 tqdm-4.67.1\n",
      "Note: you may need to restart the kernel to use updated packages.\n"
     ]
    },
    {
     "name": "stderr",
     "output_type": "stream",
     "text": [
      "  WARNING: The script tqdm.exe is installed in 'C:\\Users\\Hp\\anaconda3\\envs\\tfenv\\Scripts' which is not on PATH.\n",
      "  Consider adding this directory to PATH or, if you prefer to suppress this warning, use --no-warn-script-location.\n",
      "  WARNING: The script nltk.exe is installed in 'C:\\Users\\Hp\\anaconda3\\envs\\tfenv\\Scripts' which is not on PATH.\n",
      "  Consider adding this directory to PATH or, if you prefer to suppress this warning, use --no-warn-script-location.\n"
     ]
    }
   ],
   "source": [
    "pip install nltk"
   ]
  },
  {
   "cell_type": "code",
   "execution_count": 5,
   "id": "b48bfa4e-7801-41ec-98b4-1d386e50bab3",
   "metadata": {},
   "outputs": [],
   "source": [
    "import pandas as pd\n",
    "import nltk\n",
    "#nltk.download('all')\n",
    "from nltk.tokenize import sent_tokenize, word_tokenize\n",
    "import tensorflow as tf\n",
    "from tensorflow.keras.models import Sequential, load_model\n",
    "from tensorflow.keras.layers import Dense, LSTM, Embedding\n",
    "from sklearn.model_selection import train_test_split\n",
    "import numpy as np"
   ]
  },
  {
   "cell_type": "markdown",
   "id": "212d5a5e-55c4-4483-bee3-0cd092f929d3",
   "metadata": {},
   "source": [
    "# Data Processing"
   ]
  },
  {
   "cell_type": "code",
   "execution_count": 7,
   "id": "f4c49321-0bb8-4c95-92e4-606b0264c320",
   "metadata": {},
   "outputs": [
    {
     "name": "stdout",
     "output_type": "stream",
     "text": [
      "Number of Sentences for training:  106769\n"
     ]
    }
   ],
   "source": [
    "# load data\n",
    "text = \"\"\n",
    "\n",
    "with open(\"Training_Data\\\\01 Harry Potter and the Sorcerers Stone.txt\", encoding=\"utf-8\") as file:\n",
    "    text = file.read()\n",
    "    file.close()\n",
    "with open(\"Training_Data\\\\02 Harry Potter and the Chamber of Secrets.txt\", encoding=\"utf-8\") as file:\n",
    "    text += file.read()\n",
    "    file.close()\n",
    "with open(\"Training_Data\\\\03 Harry Potter and the Prisoner of Azkaban.txt\", encoding=\"utf-8\") as file:\n",
    "    text += file.read()\n",
    "    file.close()\n",
    "with open(\"Training_Data\\\\04 Harry Potter and the Goblet of Fire.txt\", encoding=\"utf-8\") as file:\n",
    "    text += file.read()\n",
    "    file.close()\n",
    "with open(\"Training_Data\\\\05 Harry Potter and the Order of the Phoenix.txt\", encoding=\"utf-8\") as file:\n",
    "    text += file.read()\n",
    "    file.close()\n",
    "with open(\"Training_Data\\\\06 Harry Potter and the Half-Blood Prince.txt\", encoding=\"utf-8\") as file:\n",
    "    text += file.read()\n",
    "    file.close()\n",
    "with open(\"Training_Data\\\\07 Harry Potter and the Deathly Hallows.txt\", encoding=\"utf-8\") as file:\n",
    "    text += file.read()\n",
    "    file.close()\n",
    "with open(\"Training_Data\\\\percy_jackson_book_1.txt\", encoding=\"utf-8\") as file:\n",
    "    text += file.read()\n",
    "    file.close()\n",
    "with open(\"Training_Data\\\\percy_jackson_book_2.txt\", encoding=\"utf-8\") as file:\n",
    "    text += file.read()\n",
    "    file.close()\n",
    "with open(\"Training_Data\\\\percy_jackson_book_3.txt\", encoding=\"utf-8\") as file:\n",
    "    text += file.read()\n",
    "    file.close()\n",
    "with open(\"Training_Data\\\\percy_jackson_book_4.txt\", encoding=\"utf-8\") as file:\n",
    "    text += file.read()\n",
    "    file.close()\n",
    "with open(\"Training_Data\\\\percy_jackson_book_5.txt\", encoding=\"utf-8\") as file:\n",
    "    text += file.read()\n",
    "    file.close()\n",
    "\n",
    "text = text.lower()\n",
    "sentences = sent_tokenize(text)\n",
    "print(\"Number of Sentences for training: \", len(sentences))"
   ]
  },
  {
   "cell_type": "markdown",
   "id": "d2da700f-5354-4c4e-b983-54c176638f0c",
   "metadata": {},
   "source": [
    "# Tokenization and Input Output Mapping"
   ]
  },
  {
   "cell_type": "code",
   "execution_count": 9,
   "id": "aec1caff-bf0b-4590-85fd-242652606348",
   "metadata": {},
   "outputs": [],
   "source": [
    "# numerical symbols\n",
    "count = 0\n",
    "mapping = {}\n",
    "for sentence in sentences:\n",
    "    words = word_tokenize(sentence)\n",
    "    for word in words:\n",
    "        if word not in list(mapping.keys()):\n",
    "            mapping[word] = count\n",
    "            count += 1\n",
    "\n"
   ]
  },
  {
   "cell_type": "code",
   "execution_count": 10,
   "id": "78843c6f-cb4a-4843-89f9-5830ae9ae858",
   "metadata": {},
   "outputs": [
    {
     "name": "stdout",
     "output_type": "stream",
     "text": [
      "Number of Words for training:  37755\n"
     ]
    }
   ],
   "source": [
    "print(\"Number of Words for training: \", len(list(mapping.keys())))"
   ]
  },
  {
   "cell_type": "code",
   "execution_count": 69,
   "id": "c5b9a3c3-ed1c-4f78-951f-181b141e132e",
   "metadata": {},
   "outputs": [],
   "source": [
    "# sliding window, input and labels\n",
    "n = 15\n",
    "X = []\n",
    "Y = []\n",
    "\n",
    "for sentence in sentences:\n",
    "\n",
    "    words = word_tokenize(sentence)\n",
    "    \n",
    "    count = 0\n",
    "\n",
    "    while n+count < len(words):\n",
    "        input = []\n",
    "        for word in range(count, n+count):\n",
    "            num = mapping[words[word]]\n",
    "            input.append(num)\n",
    "        X.append(input)\n",
    "        Y.append(mapping[words[n+count]])\n",
    "        count+=1\n"
   ]
  },
  {
   "cell_type": "markdown",
   "id": "572a6bc3-31fd-45cd-bb43-3dadb5f05bcb",
   "metadata": {},
   "source": [
    "# Data split"
   ]
  },
  {
   "cell_type": "code",
   "execution_count": 71,
   "id": "17914a5c-1b66-4667-8f69-0f1fed6a822b",
   "metadata": {},
   "outputs": [
    {
     "name": "stdout",
     "output_type": "stream",
     "text": [
      "Total Input Data:  675113\n",
      "37755\n",
      "540090 135023\n"
     ]
    }
   ],
   "source": [
    "# split data into training and testing sets\n",
    "print(\"Total Input Data: \", len(X))\n",
    "X_Train, X_Test, Y_Train, Y_Test = train_test_split(X, Y, test_size = 0.2)\n",
    "X_Train = np.array(X_Train)\n",
    "X_Test = np.array(X_Test)\n",
    "Y_Train = np.array(Y_Train)\n",
    "Y_Test = np.array(Y_Test)\n",
    "\n",
    "\"\"\"input = np.concatenate([np.array(X_Train).flatten(), np.array(Y_Train)])\n",
    "input = np.unique(input)\"\"\"\n",
    "input_dim = np.max(X_Train)+1\n",
    "print(input_dim)\n",
    "print(len(X_Train), len(X_Test))"
   ]
  },
  {
   "cell_type": "markdown",
   "id": "741be361-88ee-48a3-be2b-a9eb0167d5bd",
   "metadata": {},
   "source": [
    "# Model Load and Train"
   ]
  },
  {
   "cell_type": "code",
   "execution_count": 73,
   "id": "106b252e-f724-4f89-a3f7-0ba38ecff8b6",
   "metadata": {},
   "outputs": [],
   "source": [
    "epochs = 12\n",
    "batch_size = 64\n",
    "lstm_layers = 1\n",
    "lstm_units = 128"
   ]
  },
  {
   "cell_type": "code",
   "execution_count": 74,
   "id": "8bca2588-689f-4a63-8193-00df57ca66bd",
   "metadata": {},
   "outputs": [],
   "source": [
    "# load model and define architecture\n",
    "model = Sequential([\n",
    "    Embedding(input_dim = input_dim, output_dim = 64),\n",
    "    LSTM(128),\n",
    "    Dense(units = input_dim, activation = 'softmax')\n",
    "])"
   ]
  },
  {
   "cell_type": "code",
   "execution_count": 75,
   "id": "9cf0a874-d5fb-4428-a7f2-c0f1377c3ea1",
   "metadata": {},
   "outputs": [],
   "source": [
    "# compile model\n",
    "model.compile(optimizer = 'adam', loss = 'sparse_categorical_crossentropy', metrics = ['accuracy'])"
   ]
  },
  {
   "cell_type": "code",
   "execution_count": null,
   "id": "82a6e1b3-a84b-46d1-a0c9-ca6da4fb5af7",
   "metadata": {},
   "outputs": [
    {
     "name": "stdout",
     "output_type": "stream",
     "text": [
      "Epoch 1/12\n",
      "\u001b[1m6752/6752\u001b[0m \u001b[32m━━━━━━━━━━━━━━━━━━━━\u001b[0m\u001b[37m\u001b[0m \u001b[1m1141s\u001b[0m 168ms/step - accuracy: 0.1079 - loss: 6.3491 - val_accuracy: 0.1904 - val_loss: 5.2755\n",
      "Epoch 2/12\n",
      "\u001b[1m6752/6752\u001b[0m \u001b[32m━━━━━━━━━━━━━━━━━━━━\u001b[0m\u001b[37m\u001b[0m \u001b[1m1002s\u001b[0m 148ms/step - accuracy: 0.2008 - loss: 5.0052 - val_accuracy: 0.2112 - val_loss: 5.0602\n",
      "Epoch 3/12\n",
      "\u001b[1m6752/6752\u001b[0m \u001b[32m━━━━━━━━━━━━━━━━━━━━\u001b[0m\u001b[37m\u001b[0m \u001b[1m1021s\u001b[0m 151ms/step - accuracy: 0.2269 - loss: 4.6085 - val_accuracy: 0.2199 - val_loss: 4.9863\n",
      "Epoch 4/12\n",
      "\u001b[1m6752/6752\u001b[0m \u001b[32m━━━━━━━━━━━━━━━━━━━━\u001b[0m\u001b[37m\u001b[0m \u001b[1m1090s\u001b[0m 161ms/step - accuracy: 0.2464 - loss: 4.3379 - val_accuracy: 0.2257 - val_loss: 4.9905\n",
      "Epoch 5/12\n",
      "\u001b[1m6752/6752\u001b[0m \u001b[32m━━━━━━━━━━━━━━━━━━━━\u001b[0m\u001b[37m\u001b[0m \u001b[1m1244s\u001b[0m 184ms/step - accuracy: 0.2626 - loss: 4.1040 - val_accuracy: 0.2268 - val_loss: 5.0178\n",
      "Epoch 6/12\n",
      "\u001b[1m6752/6752\u001b[0m \u001b[32m━━━━━━━━━━━━━━━━━━━━\u001b[0m\u001b[37m\u001b[0m \u001b[1m0s\u001b[0m 163ms/step - accuracy: 0.2780 - loss: 3.8986"
     ]
    }
   ],
   "source": [
    "# feed data to model - training and validation\n",
    "from keras.callbacks import EarlyStopping\n",
    "early_stop = EarlyStopping(monitor='val_loss', patience=3)\n",
    "history = model.fit(X_Train, Y_Train, epochs = 12, validation_split = 0.2, callbacks = [early_stop], batch_size=64)"
   ]
  },
  {
   "cell_type": "markdown",
   "id": "ecf1414a-a3ea-4be9-bd79-996816d21d5c",
   "metadata": {},
   "source": [
    "# Model Testing"
   ]
  },
  {
   "cell_type": "code",
   "execution_count": 78,
   "id": "e39cab0c-ec78-4434-b88e-1d1827dca831",
   "metadata": {},
   "outputs": [
    {
     "name": "stdout",
     "output_type": "stream",
     "text": [
      "\u001b[1m4220/4220\u001b[0m \u001b[32m━━━━━━━━━━━━━━━━━━━━\u001b[0m\u001b[37m\u001b[0m \u001b[1m145s\u001b[0m 34ms/step - accuracy: 0.2244 - loss: 5.0608\n",
      "0.22418402135372162\n"
     ]
    }
   ],
   "source": [
    "# accuracy check\n",
    "test_loss, test_accuracy = model.evaluate(X_Test, Y_Test)\n",
    "print(test_accuracy)"
   ]
  },
  {
   "cell_type": "markdown",
   "id": "91074886-8c89-4697-b5f8-4bcbb21eb071",
   "metadata": {},
   "source": [
    "# Comparing Accuracies"
   ]
  },
  {
   "cell_type": "code",
   "execution_count": 80,
   "id": "0a38bb19-90e8-45da-9ee1-5467fc3354fb",
   "metadata": {},
   "outputs": [
    {
     "data": {
      "text/plain": [
       "\"import pandas as pd\\ndf = pd.DataFrame({\\n    'window size': []\\n    'batch_size': [],\\n    'epochs': [],\\n    'LSTM Layers': [],\\n    'LSTM Units': [],\\n    'Training Accuracy': [],\\n    'Validation Accuracy': [],\\n    'Testing Accuracy': []\\n})\\ndf.to_csv('Model_Comparisions.csv', index = 'False')\""
      ]
     },
     "execution_count": 80,
     "metadata": {},
     "output_type": "execute_result"
    }
   ],
   "source": [
    "# Uncomment when have to create new model comparision file\n",
    "\n",
    "\"\"\"import pandas as pd\n",
    "df = pd.DataFrame({\n",
    "    'window size': []\n",
    "    'batch_size': [],\n",
    "    'epochs': [],\n",
    "    'LSTM Layers': [],\n",
    "    'LSTM Units': [],\n",
    "    'Training Accuracy': [],\n",
    "    'Validation Accuracy': [],\n",
    "    'Testing Accuracy': []\n",
    "})\n",
    "df.to_csv('Model_Comparisions.csv', index = 'False')\"\"\""
   ]
  },
  {
   "cell_type": "code",
   "execution_count": 90,
   "id": "c496d9b2-7898-4d2f-9062-9194579bfd6e",
   "metadata": {},
   "outputs": [],
   "source": [
    "new_data = pd.DataFrame([{\n",
    "    'window_size': n,\n",
    "    'batch_size': batch_size,\n",
    "    'epochs': epochs,\n",
    "    'LSTM Layers': lstm_layers,\n",
    "    'LSTM Units': lstm_units,\n",
    "    'Training Accuracy': history.history['accuracy'],\n",
    "    'Validation Accuracy': history.history['val_accuracy'],\n",
    "    'Testing Accuracy': test_accuracy}])"
   ]
  },
  {
   "cell_type": "code",
   "execution_count": 92,
   "id": "21f4b166-bd82-42a9-a81d-a37996993657",
   "metadata": {},
   "outputs": [],
   "source": [
    "# save comparisions\n",
    "df = pd.read_csv(\"C:\\\\Users\\\\Hp\\\\Documents\\\\Javeria\\\\Studies\\\\Generative_AI_Project\\\\Model_Comparisions.csv\")\n",
    "df = pd.concat([df, new_data], ignore_index=True)\n",
    "df.to_csv('Model_Comparisions.csv', index = 'False')"
   ]
  },
  {
   "cell_type": "markdown",
   "id": "c39f6e31-b510-4a23-aa53-3cec413e32af",
   "metadata": {},
   "source": [
    "# Plots"
   ]
  },
  {
   "cell_type": "code",
   "execution_count": 95,
   "id": "23eb0000-be24-4343-83fc-b9a39b7ccc1f",
   "metadata": {},
   "outputs": [],
   "source": [
    "import matplotlib.pyplot as plt"
   ]
  },
  {
   "cell_type": "code",
   "execution_count": 97,
   "id": "9c3bbab9-be89-448d-a61e-afb7352a6627",
   "metadata": {},
   "outputs": [
    {
     "data": {
      "text/plain": [
       "<matplotlib.legend.Legend at 0x21295e94400>"
      ]
     },
     "execution_count": 97,
     "metadata": {},
     "output_type": "execute_result"
    },
    {
     "data": {
      "image/png": "[encoded data removed]",
      "text/plain": [
       "<Figure size 640x480 with 1 Axes>"
      ]
     },
     "metadata": {},
     "output_type": "display_data"
    }
   ],
   "source": [
    "# graphs\n",
    "plt.plot(history.history['loss'], label = 'Training Loss')\n",
    "plt.plot(history.history['val_loss'], label = 'Validation Loss')\n",
    "plt.legend()"
   ]
  },
  {
   "cell_type": "code",
   "execution_count": 98,
   "id": "a4be68c3-e306-4dba-ac85-dc0799085b9b",
   "metadata": {},
   "outputs": [],
   "source": [
    "# save model\n",
    "model.save('model.keras')"
   ]
  },
  {
   "cell_type": "code",
   "execution_count": 101,
   "id": "0c4d1a57-f662-4728-9ca6-2f8e63e3e3e4",
   "metadata": {},
   "outputs": [],
   "source": [
    "# Load Model and Test"
   ]
  },
  {
   "cell_type": "code",
   "execution_count": 187,
   "id": "1ce7eeec-b74d-4dbc-b44b-1198fa578563",
   "metadata": {},
   "outputs": [
    {
     "name": "stdin",
     "output_type": "stream",
     "text": [
      "Enter at least 7 words:  She opened the book and began\n"
     ]
    },
    {
     "name": "stdout",
     "output_type": "stream",
     "text": [
      "\u001b[1m1/1\u001b[0m \u001b[32m━━━━━━━━━━━━━━━━━━━━\u001b[0m\u001b[37m\u001b[0m \u001b[1m1s\u001b[0m 781ms/step\n",
      "\u001b[1m1/1\u001b[0m \u001b[32m━━━━━━━━━━━━━━━━━━━━\u001b[0m\u001b[37m\u001b[0m \u001b[1m0s\u001b[0m 434ms/step\n",
      "\u001b[1m1/1\u001b[0m \u001b[32m━━━━━━━━━━━━━━━━━━━━\u001b[0m\u001b[37m\u001b[0m \u001b[1m0s\u001b[0m 93ms/step\n",
      "\u001b[1m1/1\u001b[0m \u001b[32m━━━━━━━━━━━━━━━━━━━━\u001b[0m\u001b[37m\u001b[0m \u001b[1m0s\u001b[0m 78ms/step\n",
      "She opened the book and began to see it.\n"
     ]
    }
   ],
   "source": [
    "model = load_model('model.keras')\n",
    "incomplete_sent = input(\"Enter at least 7 words: \")\n",
    "sentence = incomplete_sent\n",
    "incomplete_sent = incomplete_sent.lower()\n",
    "\n",
    "word = \"\"\n",
    "\n",
    "while (word != '.'):\n",
    "    \n",
    "    words = word_tokenize(incomplete_sent)\n",
    "    inp = [mapping[word] for word in words]\n",
    "    inp = np.array([inp])\n",
    "    output = model.predict(inp)\n",
    "    \n",
    "    predicted = np.argmax(output[0])\n",
    "    \n",
    "    reverse_map = {token:word for word, token in mapping.items()}\n",
    "    word = reverse_map[predicted] \n",
    "\n",
    "    incomplete_sent += f\" {word}\"\n",
    "    incomplete_sent = incomplete_sent[1:] \n",
    "\n",
    "    if word == '.' or word == ',':\n",
    "        sentence += f\"{word}\"\n",
    "    else:\n",
    "        sentence += f\" {word}\"\n",
    "\n",
    "print(sentence)"
   ]
  },
  {
   "cell_type": "code",
   "execution_count": null,
   "id": "b60ca2b7-47da-4418-a419-4cd16b01d1fc",
   "metadata": {},
   "outputs": [],
   "source": []
  }
 ],
 "metadata": {
  "kernelspec": {
   "display_name": "Python (tfenv)",
   "language": "python",
   "name": "tfenv"
  },
  "language_info": {
   "codemirror_mode": {
    "name": "ipython",
    "version": 3
   },
   "file_extension": ".py",
   "mimetype": "text/x-python",
   "name": "python",
   "nbconvert_exporter": "python",
   "pygments_lexer": "ipython3",
   "version": "3.9.23"
  }
 },
 "nbformat": 4,
 "nbformat_minor": 5
}
